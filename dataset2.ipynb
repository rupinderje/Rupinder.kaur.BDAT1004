{
 "cells": [
  {
   "cell_type": "markdown",
   "id": "a9ed532d",
   "metadata": {},
   "source": [
    "# Question 1\n",
    "\n",
    "Consider the following Python module:\n",
    "a = 0 def b():\n",
    "global a\n",
    "a = c(a)\n",
    "def c(a):\n",
    "return a + 2\n",
    "After importing the module into the interpreter, you execute:\n",
    ">>> b()\n",
    ">>> b()\n",
    ">>> b()\n",
    ">>> a\n",
    "?\n",
    "What value is displayed when the last expression (a) is evaluated? Explain your answer by indicating what happens in every executed statement.\n",
    "\n",
    "\n"
   ]
  },
  {
   "cell_type": "markdown",
   "id": "a13f07f0",
   "metadata": {},
   "source": [
    "# Answer \n",
    "\n",
    "The value displayed when the last expression a is evaluated would be 6.\n",
    "Explanation:\n",
    "\n",
    "Initially, the global variable a is assigned the value of 0 when the module is imported.\n",
    "When the function b() is executed for the first time, it encounters the line global a, which declares that a is a global variable. Then, it calls the function c(a) passing the current value of a (which is 0) as an argument. The function c(a) adds 2 to the value of a and returns the result.\n",
    "\n",
    "Before the execution of c(a), the value of a is 0.\n",
    "After c(a) is executed, the value of a is updated to 2.\n",
    "When the function b() is executed for the second time, it again encounters the line global a, confirming that a is a global variable. The function c(a) is called again with the updated value of a (which is now 2). The function c(a) adds 2 to the value of a and returns the result.\n",
    "\n",
    "Before the execution of c(a), the value of a is 2.\n",
    "After c(a) is executed, the value of a is updated to 4.\n",
    "When the function b() is executed for the third time, the same process occurs again:\n",
    "\n",
    "Before the execution of c(a), the value of a is 4.\n",
    "After c(a) is executed, the value of a is updated to 6.\n",
    "Finally, when the expression a is evaluated, it returns the current value of the global variable a, which is 6.\n",
    "So, the output displayed when the last expression a is evaluated would be 6.\n",
    "\n"
   ]
  },
  {
   "cell_type": "markdown",
   "id": "1fb72a58",
   "metadata": {},
   "source": [
    "# Question 2\n",
    "\n",
    "Function fileLength(), given to you, takes the name of a file as input and returns\n",
    "the length of the file:\n",
    ">>> fileLength('midterm.py')\n",
    "284\n",
    ">>> fileLength('idterm.py')\n",
    "Traceback (most recent call last):\n",
    "File \"<pyshell#34>\", line 1, in <module>\n",
    "fileLength('idterm.py')\n",
    "File \"/Users/me/midterm.py\", line 3, in fileLength\n",
    "infile = open(filename)\n",
    "FileNotFoundError: [Errno 2] No such file or directory:\n",
    "'idterm.py'\n",
    "As shown above, if the file cannot be found by the interpreter or if it cannot be read\n",
    "as a text file, an exception will be raised. Modify function fileLength() so that a\n",
    "friendly message is printed instead:\n",
    ">>> fileLength('midterm.py')\n",
    "358\n",
    ">>> fileLength('idterm.py')\n",
    "File idterm.py not found."
   ]
  },
  {
   "cell_type": "markdown",
   "id": "d235ca66",
   "metadata": {},
   "source": [
    "# Answer \n",
    "\n",
    "You can modify the fileLength() function to handle the FileNotFoundError exception and print a friendly message instead. Here's an updated version of the function that includes the necessary changes:\n"
   ]
  },
  {
   "cell_type": "code",
   "execution_count": 168,
   "id": "40f48a00",
   "metadata": {},
   "outputs": [
    {
     "data": {
      "text/plain": [
       "358"
      ]
     },
     "execution_count": 168,
     "metadata": {},
     "output_type": "execute_result"
    }
   ],
   "source": [
    "def fileLength(filename):\n",
    "    try:\n",
    "        infile = open(filename, 'r')\n",
    "        contents = infile.read()\n",
    "        infile.close()\n",
    "        return len(contents)\n",
    "    except FileNotFoundError:\n",
    "        print(f\"File {filename} not found.\")\n",
    "\n",
    "fileLength('midterm.py')\n"
   ]
  },
  {
   "cell_type": "code",
   "execution_count": 169,
   "id": "859df4f4",
   "metadata": {},
   "outputs": [
    {
     "name": "stdout",
     "output_type": "stream",
     "text": [
      "File idterm.py not found.\n"
     ]
    }
   ],
   "source": [
    "def fileLength(filename):\n",
    "    try:\n",
    "        infile = open(filename, 'r')\n",
    "        contents = infile.read()\n",
    "        infile.close()\n",
    "        return len(contents)\n",
    "    except FileNotFoundError:\n",
    "        print(f\"File {filename} not found.\")\n",
    "\n",
    "fileLength('idterm.py')"
   ]
  },
  {
   "cell_type": "markdown",
   "id": "b87353f8",
   "metadata": {},
   "source": [
    "\n",
    "In this modified version, the open() function is wrapped in a try-except block. If the file is found and successfully opened, the length of its contents is returned as before. However, if a FileNotFoundError occurs, a friendly error message is printed instead of the traceback.\n",
    "\n",
    "Now, when you run the fileLength() function with a non-existent file, it will display the desired output.\n",
    " fileLength('midterm.py')\n",
    "358\n",
    "fileLength('idterm.py')\n",
    "File idterm.py not found.\n",
    "\n",
    "Note that this solution assumes that the error being raised is specifically a FileNotFoundError. If you encounter a different exception, you may need to modify the code accordingly.\n"
   ]
  },
  {
   "cell_type": "markdown",
   "id": "c77152b1",
   "metadata": {},
   "source": [
    "# Question 3\n",
    "\n",
    "Write a class named Marsupial that can be used as shown below:\n",
    " m = Marsupial()\n",
    " m.put_in_pouch('doll')\n",
    " m.put_in_pouch('firetruck')\n",
    " m.put_in_pouch('kitten')\n",
    " m.pouch_contents()\n",
    "['doll', 'firetruck', 'kitten']\n",
    "BDCAompTuter S1tudie0s 04\n",
    "BDAT 1004 – Data Programming\n",
    "S2022\n",
    "Page 3 of 7\n",
    "BDCAompTuter S1tudie0s\n",
    "04\n",
    "Now write a class named Kangaroo as a subclass of Marsupial that inherits all the attributes of Marsupial and also:\n",
    "a. extends the Marsupial __init__ constructor to take, as input, the\n",
    "coordinates x and y of the Kangaroo object,\n",
    "b. supports method jump that takes number values dx and dy as input and moves the kangaroo by dx units along the x-axis and by dy units along the y- axis, and\n",
    "c. overloads the __str__ operator so it behaves as shown below.\n",
    "k = Kangaroo(0,0)\n",
    " print(k)\n",
    "I am a Kangaroo located at coordinates (0,0)\n",
    ">>> k.put_in_pouch('doll')\n",
    ">>> k.put_in_pouch('firetruck')\n",
    ">>> k.put_in_pouch('kitten')\n",
    ">>> k.pouch_contents() ['doll', 'firetruck', 'kitten']\n",
    ">>> k.jump(1,0)\n",
    ">>> k.jump(1,0)\n",
    ">>> k.jump(1,0)\n",
    ">>> print(k)\n",
    "I am a Kangaroo located at coordinates (3,0)"
   ]
  },
  {
   "cell_type": "markdown",
   "id": "95f8f7d4",
   "metadata": {},
   "source": [
    "# Answer \n",
    "\n",
    "Here's the implementation of the Marsupial and Kangaroo classes as described:\n",
    "class Marsupial:\n"
   ]
  },
  {
   "cell_type": "code",
   "execution_count": 170,
   "id": "df6aeb2c",
   "metadata": {},
   "outputs": [
    {
     "name": "stdout",
     "output_type": "stream",
     "text": [
      "['doll', 'firetruck', 'kitten']\n",
      "I am a Kangaroo located at coordinates (0,0)\n",
      "['doll', 'firetruck', 'kitten']\n",
      "I am a Kangaroo located at coordinates (3,0)\n"
     ]
    }
   ],
   "source": [
    "class Marsupial:\n",
    "    def __init__(self):\n",
    "        self.pouch = []\n",
    "\n",
    "    def put_in_pouch(self, item):\n",
    "        self.pouch.append(item)\n",
    "\n",
    "    def pouch_contents(self):\n",
    "        return self.pouch\n",
    "\n",
    "class Kangaroo(Marsupial):\n",
    "    def __init__(self, x, y):\n",
    "        super().__init__()\n",
    "        self.x = x\n",
    "        self.y = y\n",
    "\n",
    "    def jump(self, dx, dy):\n",
    "        self.x += dx\n",
    "        self.y += dy\n",
    "\n",
    "    def __str__(self):\n",
    "        return f\"I am a Kangaroo located at coordinates ({self.x},{self.y})\"\n",
    "\n",
    "\n",
    "# Testing the classes\n",
    "m = Marsupial()\n",
    "m.put_in_pouch('doll')\n",
    "m.put_in_pouch('firetruck')\n",
    "m.put_in_pouch('kitten')\n",
    "print(m.pouch_contents())\n",
    "\n",
    "k = Kangaroo(0, 0)\n",
    "print(k)\n",
    "k.put_in_pouch('doll')\n",
    "k.put_in_pouch('firetruck')\n",
    "k.put_in_pouch('kitten')\n",
    "print(k.pouch_contents())\n",
    "\n",
    "k.jump(1, 0)\n",
    "k.jump(1, 0)\n",
    "k.jump(1, 0)\n",
    "print(k)\n"
   ]
  },
  {
   "cell_type": "markdown",
   "id": "31a195ba",
   "metadata": {},
   "source": [
    "The Marsupial class provides the basic functionality to put items in the pouch and retrieve the pouch contents. The Kangaroo class is a subclass of Marsupial and extends it with additional features specific to kangaroos. It overrides the __init__ constructor to accept the coordinates x and y for the kangaroo's location. The jump method allows the kangaroo to move along the x and y axes. The __str__ method is overloaded to provide a formatted string representation of the kangaroo object.\n",
    "\n"
   ]
  },
  {
   "cell_type": "markdown",
   "id": "51b7f1a1",
   "metadata": {},
   "source": [
    "# Question 4\n",
    "\n",
    "Write function collatz() that takes a positive integer x as input and prints the Collatz sequence starting at x. A Collatz sequence is obtained by repeatedly applying this rule to the previous number x in the sequence:\n",
    "x = { 𝑥/2 𝑖𝑓 𝑥 𝑖𝑠 𝑒𝑣𝑒𝑛 3𝑥 + 1 𝑖𝑓 𝑥 𝑖𝑠 𝑜𝑑𝑑\n",
    "Your function should stop when the sequence gets to number 1. Your implementation must be recursive, without any loops.\n",
    "BDAT 1004 – Data Programming\n",
    "S2022\n",
    "Page 4 of 7\n",
    "collatz(1) 1\n",
    "collatz(10) 10\n",
    "5\n",
    "16\n",
    "8\n",
    "4\n",
    "2\n",
    "1"
   ]
  },
  {
   "cell_type": "markdown",
   "id": "5a77f2e4",
   "metadata": {},
   "source": [
    "# Answer \n",
    "Here's an implementation of the collatz() function that prints the Collatz sequence recursively:\n"
   ]
  },
  {
   "cell_type": "code",
   "execution_count": 171,
   "id": "6b6b04f3",
   "metadata": {},
   "outputs": [
    {
     "name": "stdout",
     "output_type": "stream",
     "text": [
      "10\n",
      "5\n",
      "16\n",
      "8\n",
      "4\n",
      "2\n",
      "1\n"
     ]
    }
   ],
   "source": [
    "x = 1\n",
    "x = 10\n",
    "def collatz(x):\n",
    "        print(x)\n",
    "        if x == 1:\n",
    "             return\n",
    "        if x % 2 == 0:\n",
    "            collatz(x // 2);\n",
    "        else:\n",
    "            collatz(3 * x + 1);\n",
    "collatz(x)"
   ]
  },
  {
   "cell_type": "markdown",
   "id": "c16b2f58",
   "metadata": {},
   "source": [
    "In this implementation, the function takes a positive integer x as input. It prints the current value of x and then checks if it has reached 1. If x is equal to 1, the function returns, stopping the recursion.\n",
    "If x is even (divisible by 2), the function calls itself with x // 2 as the argument to continue the sequence. If x is odd, the function calls itself with 3 * x + 1 as the argument.\n",
    "\n",
    "By recursively calling the collatz() function, the sequence continues until it reaches 1, and each value in the sequence is printed.\n"
   ]
  },
  {
   "cell_type": "markdown",
   "id": "9823f133",
   "metadata": {},
   "source": [
    "# Question 5\n",
    "\n",
    "Write a recursive method binary() that takes a non-negative integer n and prints the binary representation of integer n.\n",
    ">>> binary(0) 0\n",
    ">>> binary(1) 1\n",
    ">>> binary(3) 11\n",
    ">>> binary(9) 1001"
   ]
  },
  {
   "cell_type": "markdown",
   "id": "9417df41",
   "metadata": {},
   "source": [
    "# Answer \n",
    "\n",
    "Here's an implementation of the binary() function that prints the binary representation of a non-negative integer n recursively:\n"
   ]
  },
  {
   "cell_type": "code",
   "execution_count": 14,
   "id": "8c3e669a",
   "metadata": {},
   "outputs": [
    {
     "name": "stdout",
     "output_type": "stream",
     "text": [
      "01111001"
     ]
    }
   ],
   "source": [
    "def binary(n):\n",
    "    if n > 1:\n",
    "        binary(n // 2)  # Recursive call with n divided by 2\n",
    "    print(n % 2, end='')\n",
    "    \n",
    "binary(0) \n",
    "binary(1)\n",
    "binary(3)\n",
    "binary(9)"
   ]
  },
  {
   "cell_type": "markdown",
   "id": "51e0b63c",
   "metadata": {},
   "source": [
    "In this implementation, the function takes a non-negative integer n as input. It checks if n is equal to 0. If it is, the function returns, stopping the recursion.\n",
    "\n",
    "If n is not 0, the function calls itself with n // 2 as the argument. This recursive call continues until n becomes 0.\n",
    "\n",
    "After the recursive call, the function prints n % 2, which is the remainder when n is divided by 2. This represents the binary digit (0 or 1) of the current position. By using end='', the function prints the digits on the same line without a newline character\n",
    "\n",
    "The function correctly prints the binary representation of the given non-negative integers.\n"
   ]
  },
  {
   "cell_type": "markdown",
   "id": "dc3e2b2a",
   "metadata": {},
   "source": [
    "# Question 6\n",
    "\n",
    "Implement a class named HeadingParser that can be used to parse an HTML document, and retrieve and print all the headings in the document. You should implement your class as a subclass of HTMLParser, defined in Standard Library module html.parser. When fed a string containing HTML code, your class should print the headings, one per line and in the order in which they appear in the document. Each heading should be indented as follows: an h1 heading should have\n",
    "BDCAompTuter S1tudie0s\n",
    "04\n",
    "BDAT 1004 – Data Programming\n",
    "S2022\n",
    "Page 5 of 7\n",
    "BDCAompTuter S1tudie0s\n",
    "04\n",
    "indentation 0, and h2 heading should have indentation 1, etc. Test your implementation using w3c.html.\n",
    ">>> infile = open('w3c.html')\n",
    ">>> content = infile.read()\n",
    ">>> infile.close()\n",
    ">>> hp = HeadingParser()\n",
    ">>> hp.feed(content) W3C Mission Principles"
   ]
  },
  {
   "cell_type": "markdown",
   "id": "caf3bb9e",
   "metadata": {},
   "source": [
    "# Answer \n",
    "\n",
    "Here's an implementation of the HeadingParser class that parses an HTML document and prints all the headings:\n",
    "from html.parser import HTMLParser\n"
   ]
  },
  {
   "cell_type": "code",
   "execution_count": 4,
   "id": "03e76bd5",
   "metadata": {},
   "outputs": [
    {
     "name": "stdout",
     "output_type": "stream",
     "text": [
      "Invalid tag encountered: html\n",
      "Invalid tag encountered: head\n",
      "W3C Mission\n",
      " Principles\n"
     ]
    }
   ],
   "source": [
    " from html.parser import HTMLParser\n",
    "\n",
    "class HeadingParser(HTMLParser):\n",
    "    def __init__(self):\n",
    "        super().__init__()\n",
    "        self.headings = []\n",
    "        self.current_heading_level = 0\n",
    "\n",
    "    def handle_starttag(self, tag, attrs):\n",
    "        if tag.startswith('h'):\n",
    "            try:\n",
    "                self.current_heading_level = int(tag[1:])\n",
    "            except ValueError:\n",
    "                print(f\"Invalid tag encountered: {tag}\")\n",
    "            \n",
    "    def handle_endtag(self, tag):\n",
    "        if tag.startswith('h'):\n",
    "            self.current_heading_level = 0\n",
    "\n",
    "    def handle_data(self, data):\n",
    "        if self.current_heading_level > 0:\n",
    "            indentation = self.current_heading_level - 1\n",
    "            heading = ' ' * indentation + data.strip()\n",
    "            self.headings.append(heading)\n",
    "\n",
    "    def print_headings(self):\n",
    "        for heading in self.headings:\n",
    "            print(heading)\n",
    "\n",
    "\n",
    "# Test the implementation using w3c.html\n",
    "\n",
    "infile = open('w3c.html')\n",
    "content = infile.read()\n",
    "infile.close()\n",
    "\n",
    "hp = HeadingParser()\n",
    "hp.feed(content)\n",
    "hp.print_headings()\n",
    "\n",
    "def print_headings(): \n",
    "    print_headings()\n"
   ]
  },
  {
   "cell_type": "markdown",
   "id": "3476d0c4",
   "metadata": {},
   "source": [
    "In this implementation, the HeadingParser class is a subclass of HTMLParser from the html.parser module. It overrides the handle_starttag(), handle_endtag(), and handle_data() methods to extract and process the heading information from the HTML document.\n",
    "The handle_starttag() method checks if the tag is a heading tag (e.g., 'h1', 'h2', etc.) and sets the current_heading_level attribute accordingly.\n",
    "\n",
    "The handle_endtag() method resets the current_he ading_level to 0 when a heading tag is closed.\n",
    "The handle_data() method is called when data (text) inside a tag is encountered. If the current_heading_level is greater than 0, it means we are inside a heading tag, so the data is considered a heading. The method strips any leading or trailing whitespace from the data and adds appropriate indentation based on the heading level. The heading is then added to the headings list.\n",
    "The print_headings() method simply prints each heading from the headings list, one per line.\n",
    "To test the implementation, the w3c.html file is opened and its content is fed to an instance of HeadingParser. The print_headings() method is then called to print all the headings found in the HTML document.\n",
    "\n",
    "Please make sure that you have the w3c.html file in the same directory as the Python script or notebook where you run this code.\n"
   ]
  },
  {
   "cell_type": "markdown",
   "id": "5a8cb7bc",
   "metadata": {},
   "source": [
    "# Question 7\n",
    "\n",
    "Implement recursive function webdir() that takes as input: a URL (as a string) and non-negative integers depth and indent. Your function should visit every web page reachable from the starting URL web page in depth clicks or less, and print each web page's URL. As shown below, indentation, specified by indent, should be used to indicate the depth of a URL.\n",
    ">>>\n",
    "webdir('http://reed.cs.depaul.edu/lperkovic/csc242/test1.html'\n",
    ", 2, 0)\n",
    "http://reed.cs.depaul.edu/lperkovic/csc242/test1.html http://reed.cs.depaul.edu/lperkovic/csc242/test2.html\n",
    "http://reed.cs.depaul.edu/lperkovic/csc242/test4.html http://reed.cs.depaul.edu/lperkovic/csc242/test3.html\n",
    "http://reed.cs.depaul.edu/lperkovic/csc242/test4.html\n",
    "\n",
    "Here's an implementation of the webdir() function\n",
    "\n",
    "# Answer"
   ]
  },
  {
   "cell_type": "code",
   "execution_count": 2,
   "id": "7ca01d8c",
   "metadata": {},
   "outputs": [
    {
     "name": "stdout",
     "output_type": "stream",
     "text": [
      "http://reed.cs.depaul.edu/lperkovic/csc242/test1.html\n",
      "http://reed.cs.depaul.edu/lperkovic/csc242/test4.html\n",
      "http://reed.cs.depaul.edu/lperkovic/csc242/test2.html\n",
      "http://reed.cs.depaul.edu/lperkovic/csc242/test3.html\n",
      "http://reed.cs.depaul.edu/lperkovic/csc242/test4.html\n"
     ]
    }
   ],
   "source": [
    "import requests\n",
    "from bs4 import BeautifulSoup\n",
    "\n",
    "def webdir(url, depth, indent):\n",
    "    if depth < 0:\n",
    "        return\n",
    "\n",
    "    response = requests.get(url)\n",
    "    soup = BeautifulSoup(response.text, 'html.parser')\n",
    "\n",
    "    print(' ' * indent + url)\n",
    "    if depth == 0:\n",
    "        return\n",
    "    for link in soup.find_all('a'):\n",
    "        href = link.get('href')\n",
    "        if href and href.startswith('http'):\n",
    "            webdir(href, depth - 1, indent + 1)\n",
    "webdir('http://reed.cs.depaul.edu/lperkovic/csc242/test1.html', 2, 0)\n",
    "webdir('http://reed.cs.depaul.edu/lperkovic/csc242/test4.html', 2, 0)\n",
    "webdir('http://reed.cs.depaul.edu/lperkovic/csc242/test2.html', 2, 0)\n",
    "webdir('http://reed.cs.depaul.edu/lperkovic/csc242/test3.html', 2, 0)\n",
    "webdir('http://reed.cs.depaul.edu/lperkovic/csc242/test4.html', 2, 0)"
   ]
  },
  {
   "cell_type": "markdown",
   "id": "fd2a68d0",
   "metadata": {},
   "source": [
    "In this implementation, the webdir() function takes a URL, a depth, and an indent as inputs. It uses the requests.get() function to retrieve the HTML content of the web page at the given URL. The BeautifulSoup library is then used to parse the HTML.\n",
    "\n",
    "The function prints the current URL with an appropriate indentation based on the depth. The depth parameter is decremented for the recursive calls.\n",
    "\n",
    "If the depth becomes 0, the function returns to stop the recursion. Otherwise, it searches for all <a> tags in the HTML using soup.find_all('a') and retrieves the href attribute value for each link. If the href starts with 'http', indicating an absolute URL, the webdir() function is called recursively with the new URL, decreased depth, and increased indent.\n",
    "\n",
    "\n",
    "The function visits the web pages within 2 clicks from the starting URL and prints each URL with the appropriate indentation based on the depth.\n",
    "Note that the code assumes you have the requests and beautifulsoup4 libraries installed. You can install them using pip install requests beautifulsoup4.\n"
   ]
  },
  {
   "cell_type": "markdown",
   "id": "b0ff0886",
   "metadata": {},
   "source": [
    "# Question 8\n",
    "\n",
    "Write SQL queries on the below database table that return:\n",
    "a) All the temperature data.\n",
    "b) All the cities, but without repetition.\n",
    "c) All the records for India.\n",
    "d) All the Fall records.\n",
    "e) The city, country, and season for which the average rainfall is between 200 and 400 millimeters.\n",
    "f) The city and country for which the average Fall temperature is above 20 degrees, in increasing temperature order.\n",
    "g) The total annual rainfall for Cairo.\n",
    "h) The total rainfall for each season.\n"
   ]
  },
  {
   "cell_type": "code",
   "execution_count": null,
   "id": "5d194c36",
   "metadata": {},
   "outputs": [],
   "source": [
    "import sqlite3\n",
    "import pandas as pd\n",
    "# connection to an in-memory SQLite database\n",
    "conn = sqlite3.connect(':memory:')\n",
    "\n",
    "# Create a cursor object to execute SQL queries\n",
    "cursor = conn.cursor()\n",
    "\n",
    "# Create the table\n",
    "cursor.execute('''\n",
    "    CREATE TABLE Weather (\n",
    "        City TEXT,\n",
    "        Country TEXT,\n",
    "        Season TEXT,\n",
    "        Temperature FLOAT,\n",
    "        Rainfall FLOAT\n",
    "    )\n",
    "''')\n",
    "\n",
    "# Insert the data into the table\n",
    "\n",
    "data = [\n",
    "    ('Mumbai', 'India', 'Winter', 24.8, 5.9),\n",
    "    ('Mumbai', 'India', 'Spring', 28.4, 16.2),\n",
    "     ('Mumbai', 'India', 'Summer', 27.9, 1549.4),\n",
    "    ('Mumbai', 'India', 'Fall', 27.6, 346.0),\n",
    "    ('London', 'United Kingdom', 'Winter', 4.2, 207.7),\n",
    "    ('London', 'United Kingdom', 'Spring', 8.3, 169.6),\n",
    "    ('London', 'United Kingdom', 'Summer', 15.7, 157.0),\n",
    "    ('London', 'United Kingdom', 'Fall', 10.4, 218.5),\n",
    "    ('Cairo', 'Egypt', 'Winter', 13.6, 16.5),\n",
    "    ('Cairo', 'Egypt', 'Spring', 20.7, 6.5),\n",
    "    ('Cairo', 'Egypt', 'Summer', 27.7, 0.1),\n",
    "    ('Cairo', 'Egypt', 'Fall', 22.2, 4.5)\n",
    "]\n",
    "\n",
    "cursor.executemany('INSERT INTO Weather VALUES (?, ?, ?, ?, ?)', data)\n",
    "conn.commit()\n"
   ]
  },
  {
   "cell_type": "code",
   "execution_count": 33,
   "id": "f4f8fc35",
   "metadata": {},
   "outputs": [
    {
     "name": "stdout",
     "output_type": "stream",
     "text": [
      "    Temperature\n",
      "0          24.8\n",
      "1          28.4\n",
      "2          27.9\n",
      "3          27.6\n",
      "4           4.2\n",
      "5           8.3\n",
      "6          15.7\n",
      "7          10.4\n",
      "8          13.6\n",
      "9          20.7\n",
      "10         27.7\n",
      "11         22.2\n"
     ]
    }
   ],
   "source": [
    "# a) All the temperature data.\n",
    "\n",
    "query_a = \"SELECT Temperature FROM Weather\"\n",
    "result_a = cursor.execute(query_a).fetchall()\n",
    "df_a = pd.DataFrame(result_a, columns=['Temperature'])\n",
    "print(df_a)\n"
   ]
  },
  {
   "cell_type": "code",
   "execution_count": 35,
   "id": "853f5281",
   "metadata": {},
   "outputs": [
    {
     "name": "stdout",
     "output_type": "stream",
     "text": [
      "     City\n",
      "0  Mumbai\n",
      "1  London\n",
      "2   Cairo\n"
     ]
    }
   ],
   "source": [
    "# b) All the cities, but without repetition.\n",
    "\n",
    "query_b = \"SELECT DISTINCT City FROM Weather\"\n",
    "result_b = cursor.execute(query_b).fetchall()\n",
    "df_b = pd.DataFrame(result_b, columns=['City'])\n",
    "print(df_b)\n"
   ]
  },
  {
   "cell_type": "code",
   "execution_count": 34,
   "id": "ceef7c9e",
   "metadata": {},
   "outputs": [
    {
     "name": "stdout",
     "output_type": "stream",
     "text": [
      "     City Country  Season  Temperature  Rainfall\n",
      "0  Mumbai   India  Winter         24.8       5.9\n",
      "1  Mumbai   India  Spring         28.4      16.2\n",
      "2  Mumbai   India  Summer         27.9    1549.4\n",
      "3  Mumbai   India    Fall         27.6     346.0\n"
     ]
    }
   ],
   "source": [
    "# c) All the records for India.\n",
    "\n",
    "query_c = \"SELECT * FROM Weather WHERE Country = 'India'\"\n",
    "result_c = cursor.execute(query_c).fetchall()\n",
    "df_c = pd.DataFrame(result_c, columns=['City', 'Country', 'Season', 'Temperature', 'Rainfall'])\n",
    "print(df_c)"
   ]
  },
  {
   "cell_type": "code",
   "execution_count": 20,
   "id": "dc2776d8",
   "metadata": {},
   "outputs": [
    {
     "name": "stdout",
     "output_type": "stream",
     "text": [
      "     City         Country Season  Temperature  Rainfall\n",
      "0  Mumbai           India   Fall         27.6     346.0\n",
      "1  London  United Kingdom   Fall         10.4     218.5\n",
      "2   Cairo           Egypt   Fall         22.2       4.5\n"
     ]
    }
   ],
   "source": [
    "# d) All the Fall records.\n",
    "\n",
    "query_d = \"SELECT * FROM Weather WHERE Season = 'Fall'\"\n",
    "result_d = cursor.execute(query_d).fetchall()\n",
    "df_d = pd.DataFrame(result_d, columns=['City', 'Country', 'Season', 'Temperature', 'Rainfall'])\n",
    "print(df_d)"
   ]
  },
  {
   "cell_type": "code",
   "execution_count": 36,
   "id": "76923e47",
   "metadata": {},
   "outputs": [
    {
     "name": "stdout",
     "output_type": "stream",
     "text": [
      "     City         Country  Season\n",
      "0  London  United Kingdom    Fall\n",
      "1  London  United Kingdom  Winter\n",
      "2  Mumbai           India    Fall\n"
     ]
    }
   ],
   "source": [
    "# e) The city, country, and season for which the average rainfall is between 200 and 400 millimeters.\n",
    "\n",
    "query = '''\n",
    "    SELECT City, Country, Season\n",
    "    FROM Weather\n",
    "    GROUP BY City, Country, Season\n",
    "    HAVING AVG(Rainfall) BETWEEN 200 AND 400\n",
    "'''\n",
    "\n",
    "result = cursor.execute(query).fetchall()\n",
    "df = pd.DataFrame(result, columns=['City', 'Country', 'Season'])\n",
    "print(df)\n"
   ]
  },
  {
   "cell_type": "code",
   "execution_count": 30,
   "id": "a34b9958",
   "metadata": {},
   "outputs": [
    {
     "name": "stdout",
     "output_type": "stream",
     "text": [
      "     City Country\n",
      "0   Cairo   Egypt\n",
      "1  Mumbai   India\n"
     ]
    }
   ],
   "source": [
    "# f) The city and country for which the average Fall temperature is above 20 degrees, in increasing temperature order.\n",
    "\n",
    "query_f = '''\n",
    "    SELECT City, Country\n",
    "    FROM Weather\n",
    "    WHERE Season = 'Fall'\n",
    "    GROUP BY City, Country\n",
    "    HAVING AVG(Temperature) > 20\n",
    "    ORDER BY AVG(Temperature) ASC\n",
    "'''\n",
    "\n",
    "result_f = cursor.execute(query_f).fetchall()\n",
    "df_f = pd.DataFrame(result_f, columns=['City', 'Country'])\n",
    "print(df_f)"
   ]
  },
  {
   "cell_type": "code",
   "execution_count": 31,
   "id": "1a1d9d0f",
   "metadata": {},
   "outputs": [
    {
     "name": "stdout",
     "output_type": "stream",
     "text": [
      "Total rainfall for Cairo: 27.6\n"
     ]
    }
   ],
   "source": [
    "# g) The total annual rainfall for Cairo.\n",
    "\n",
    "query_g = '''\n",
    "    SELECT SUM(Rainfall) AS Total_Rainfall\n",
    "    FROM Weather\n",
    "    WHERE City = 'Cairo'\n",
    "'''\n",
    "\n",
    "result_g = cursor.execute(query_g).fetchone()\n",
    "total_rainfall_cairo = result_g[0]\n",
    "print(\"Total rainfall for Cairo:\", total_rainfall_cairo)"
   ]
  },
  {
   "cell_type": "code",
   "execution_count": 37,
   "id": "5b12ce03",
   "metadata": {},
   "outputs": [
    {
     "name": "stdout",
     "output_type": "stream",
     "text": [
      "   Season  Total_Rainfall\n",
      "0    Fall           569.0\n",
      "1  Spring           192.3\n",
      "2  Summer          1706.5\n",
      "3  Winter           230.1\n"
     ]
    }
   ],
   "source": [
    "# h) The total rainfall for each season.\n",
    "\n",
    "query_h = '''\n",
    "    SELECT Season, SUM(Rainfall) AS Total_Rainfall\n",
    "    FROM Weather\n",
    "    GROUP BY Season\n",
    "'''\n",
    "\n",
    "result_h = cursor.execute(query_h).fetchall()\n",
    "df_h = pd.DataFrame(result_h, columns=['Season', 'Total_Rainfall'])\n",
    "print(df_h)"
   ]
  },
  {
   "cell_type": "markdown",
   "id": "1af8010a",
   "metadata": {},
   "source": [
    "# Question 9\n",
    "\n",
    ". Suppose list words is defined as follows:\n",
    ">>> words = ['The', 'quick', 'brown', 'fox', 'jumps', 'over', 'the', 'lazy', 'dog']\n",
    "\n",
    "Write list comprehension expressions that use list words and generate the following lists:\n",
    "a) ['THE', 'QUICK', 'BROWN', 'FOX', 'JUMPS', 'OVER', 'THE', 'LAZY', 'DOG']\n",
    "\n",
    "b) ['the', 'quick', 'brown', 'fox', 'jumps', 'over', 'the', 'lazy', 'dog']\n",
    "c) [3, 5, 5, 3, 5, 4, 3, 4, 3] (the list of lengths of words in list\n",
    "words).\n",
    "\n",
    "d) [['THE', 'the', 3], ['QUICK', 'quick', 5], ['BROWN',\n",
    "'brown', 5], ['FOX', 'fox', 3], ['JUMPS', 'jumps', 5],\n",
    "['OVER', 'over', 4], ['THE', 'the', 3], ['LAZY', 'lazy',\n",
    "\n",
    "4], ['DOG', 'dog', 3]] (the list containing a list for every word of list words, where each list contains the word in uppercase and lowercase and the length of the word.)\n",
    "\n",
    "e) ['The', 'quick', 'brown', 'fox', 'jumps', 'over', 'the', 'lazy', 'dog'] (the list of words in list words containing 4 or more characters."
   ]
  },
  {
   "cell_type": "markdown",
   "id": "657f354b",
   "metadata": {},
   "source": [
    "# Answer 9\n",
    "\n",
    "Here are the list comprehension expressions to generate the requested lists:\n",
    "\n",
    "a) Convert all words to uppercase:\n",
    "uppercase_words = [word.upper() for word in words]\n",
    "\n",
    "b) Keep all words as they are:\n",
    "original_words = [word for word in words]\n",
    "\n",
    "c) Calculate the length of each word:\n",
    "word_lengths = [len(word) for word in words]\n",
    "\n",
    "d) Create a list of lists with uppercase word, lowercase word, and word length:\n",
    "word_info = [[word.upper(), word.lower(), len(word)] for word in words]\n",
    "\n",
    "e) Filter the words with 4 or more characters:\n",
    "long_words = [word for word in words if len(word) >= 4]\n",
    "\n",
    "Here are the resulting lists:\n",
    "\n"
   ]
  },
  {
   "cell_type": "code",
   "execution_count": 59,
   "id": "79c30169",
   "metadata": {},
   "outputs": [
    {
     "name": "stdout",
     "output_type": "stream",
     "text": [
      "['THE', 'QUICK', 'BROWN', 'FOX', 'JUMPS', 'OVER', 'THE', 'LAZY', 'DOG']\n"
     ]
    }
   ],
   "source": [
    "words = ['The', 'quick', 'brown', 'fox', 'jumps', 'over', 'the', 'lazy', 'dog']\n",
    "uppercase_words = [word.upper() for word in words]\n",
    "print(uppercase_words)\n"
   ]
  },
  {
   "cell_type": "code",
   "execution_count": 60,
   "id": "15f3affe",
   "metadata": {},
   "outputs": [
    {
     "name": "stdout",
     "output_type": "stream",
     "text": [
      "['The', 'quick', 'brown', 'fox', 'jumps', 'over', 'the', 'lazy', 'dog']\n"
     ]
    }
   ],
   "source": [
    "words = ['The', 'quick', 'brown', 'fox', 'jumps', 'over', 'the', 'lazy', 'dog']\n",
    "original_words = [word for word in words]words = ['The', 'quick', 'brown', 'fox', 'jumps', 'over', 'the', 'lazy', 'dog']\n",
    "uppercase_words = [word.upper() for word in words]\n",
    "print(uppercase_words)\n",
    "\n",
    "print(original_words)\n"
   ]
  },
  {
   "cell_type": "code",
   "execution_count": 56,
   "id": "0e0150b4",
   "metadata": {},
   "outputs": [
    {
     "name": "stdout",
     "output_type": "stream",
     "text": [
      "[3, 5, 5, 3, 5, 4, 3, 4, 3]\n"
     ]
    }
   ],
   "source": [
    "words = ['The', 'quick', 'brown', 'fox', 'jumps', 'over', 'the', 'lazy', 'dog']\n",
    "word_lengths = [len(word) for word in words]\n",
    "print(word_lengths)"
   ]
  },
  {
   "cell_type": "code",
   "execution_count": 61,
   "id": "ce1aad30",
   "metadata": {},
   "outputs": [
    {
     "name": "stdout",
     "output_type": "stream",
     "text": [
      "[['THE', 'the', 3], ['QUICK', 'quick', 5], ['BROWN', 'brown', 5], ['FOX', 'fox', 3], ['JUMPS', 'jumps', 5], ['OVER', 'over', 4], ['THE', 'the', 3], ['LAZY', 'lazy', 4], ['DOG', 'dog', 3]]\n"
     ]
    }
   ],
   "source": [
    "words = ['The', 'quick', 'brown', 'fox', 'jumps', 'over', 'the', 'lazy', 'dog']\n",
    "word_info = [[word.upper(), word.lower(), len(word)] for word in words]\n",
    "print(word_info)\n"
   ]
  },
  {
   "cell_type": "code",
   "execution_count": 71,
   "id": "12d176b2",
   "metadata": {},
   "outputs": [
    {
     "name": "stdout",
     "output_type": "stream",
     "text": [
      "['quick', 'brown', 'jumps', 'over', 'lazy']\n"
     ]
    }
   ],
   "source": [
    "words = ['The', 'quick', 'brown', 'fox', 'jumps', 'over', 'the', 'lazy', 'dog']\n",
    "long_words = [word for word in words if len(word) >= 4]\n",
    "print(long_words)\n"
   ]
  }
 ],
 "metadata": {
  "kernelspec": {
   "display_name": "Python 3 (ipykernel)",
   "language": "python",
   "name": "python3"
  },
  "language_info": {
   "codemirror_mode": {
    "name": "ipython",
    "version": 3
   },
   "file_extension": ".py",
   "mimetype": "text/x-python",
   "name": "python",
   "nbconvert_exporter": "python",
   "pygments_lexer": "ipython3",
   "version": "3.10.9"
  }
 },
 "nbformat": 4,
 "nbformat_minor": 5
}
